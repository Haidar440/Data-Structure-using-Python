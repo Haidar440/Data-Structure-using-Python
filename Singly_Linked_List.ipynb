{
  "nbformat": 4,
  "nbformat_minor": 0,
  "metadata": {
    "colab": {
      "provenance": [],
      "authorship_tag": "ABX9TyPdbbtIOgNnUusVzpNIPKyQ",
      "include_colab_link": true
    },
    "kernelspec": {
      "name": "python3",
      "display_name": "Python 3"
    },
    "language_info": {
      "name": "python"
    }
  },
  "cells": [
    {
      "cell_type": "markdown",
      "metadata": {
        "id": "view-in-github",
        "colab_type": "text"
      },
      "source": [
        "<a href=\"https://colab.research.google.com/github/Haidar440/Data-Structure-using-Python/blob/main/Singly_Linked_List.ipynb\" target=\"_parent\"><img src=\"https://colab.research.google.com/assets/colab-badge.svg\" alt=\"Open In Colab\"/></a>"
      ]
    },
    {
      "cell_type": "code",
      "execution_count": null,
      "metadata": {
        "colab": {
          "base_uri": "https://localhost:8080/"
        },
        "id": "WFWTPf1IfA9Y",
        "outputId": "28fd3642-4f88-44df-8ca6-003e48d26e7f"
      },
      "outputs": [
        {
          "output_type": "stream",
          "name": "stdout",
          "text": [
            "None\n",
            "50 100 45 78 199 \n",
            "50-100-45-78-199-"
          ]
        }
      ],
      "source": [
        "class Node:\n",
        "  def __init__(self,item=None,next=None):\n",
        "    self.item = item\n",
        "    self.next = next\n",
        "class SLL:\n",
        "  def __init__(self):\n",
        "    self.start = None\n",
        "\n",
        "  def isempty(self):\n",
        "    return self.start\n",
        "\n",
        "  def search(self,data):\n",
        "    if self.isempty():\n",
        "      temp = self.start\n",
        "      while temp is not None:\n",
        "        if temp.item == data:\n",
        "          return temp\n",
        "        temp = temp.next\n",
        "      return temp\n",
        "\n",
        "  def insert_at_begin(self,data):\n",
        "    new_node = Node(data,self.start)\n",
        "    self.start = new_node\n",
        "\n",
        "  def insert_at_after(self,data,node):\n",
        "    # temp = self.isempty()\n",
        "    if self.isempty():\n",
        "      new_node = Node(data,node.next)\n",
        "      node.next = new_node\n",
        "  def insert_at_last(self,data):\n",
        "    new_node = Node(data)\n",
        "    if self.isempty():\n",
        "      temp=self.start\n",
        "      while temp.next is not None:\n",
        "        temp = temp.next\n",
        "      temp.next = new_node\n",
        "    else:\n",
        "      self.start=new_node\n",
        "\n",
        "\n",
        "\n",
        "\n",
        "  def print_all(self):\n",
        "    temp = self.start\n",
        "    while temp is not None:\n",
        "      print(temp.item,end=\" \")\n",
        "      temp = temp.next\n",
        "    print()\n",
        "\n",
        "  def delete_at_begin(self):\n",
        "    if self.isempty():\n",
        "      self.start = self.start.next\n",
        "\n",
        "  def delele_item(self,data):\n",
        "    if self.isempty():\n",
        "        if self.start.item == data:\n",
        "          self.start = self.start.next\n",
        "        else:\n",
        "          temp = self.start\n",
        "          while temp.next is not None:\n",
        "            if temp.next.item == data:\n",
        "              temp.next = temp.next.next\n",
        "              break\n",
        "            temp=temp.next\n",
        "\n",
        "  def delete_last(self):\n",
        "    if self.isempty():\n",
        "        temp = self.start\n",
        "        while temp.next.next is not None:\n",
        "          temp = temp.next\n",
        "        temp.next = None\n",
        "  def __iter__(self):\n",
        "    return SLL_iterator(self.start)\n",
        "class SLL_iterator:\n",
        "  def __init__(self,start):\n",
        "    self.current = start\n",
        "  def __iter__(self):\n",
        "    return self\n",
        "  def __next__(self):\n",
        "    if not self.current:\n",
        "      raise StopIteration\n",
        "    data = self.current.item\n",
        "    self.current = self.current.next\n",
        "    return data\n",
        "myList = SLL()\n",
        "print(myList.isempty())\n",
        "myList.insert_at_begin(45)\n",
        "myList.insert_at_begin(100)\n",
        "myList.insert_at_begin(50)\n",
        "myList.insert_at_after(78,myList.search(45))\n",
        "myList.insert_at_last(199)\n",
        "myList.print_all()\n",
        "# myList.delete_at_begin()\n",
        "# myList.delele_item(78)\n",
        "# myList.delete_last()\n",
        "# myList.print_all()\n",
        "for i in myList:\n",
        "  print(i,end=\"-\")\n",
        "\n",
        "\n",
        "\n",
        "\n",
        "\n",
        "\n",
        "\n",
        "\n",
        "\n",
        "\n"
      ]
    },
    {
      "cell_type": "code",
      "source": [],
      "metadata": {
        "id": "CiuSzg1Jic2K"
      },
      "execution_count": null,
      "outputs": []
    }
  ]
}