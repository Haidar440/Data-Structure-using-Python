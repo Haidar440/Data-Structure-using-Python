{
  "nbformat": 4,
  "nbformat_minor": 0,
  "metadata": {
    "colab": {
      "provenance": [],
      "authorship_tag": "ABX9TyNPwAemzzg4/DnorZ+Cgqkh",
      "include_colab_link": true
    },
    "kernelspec": {
      "name": "python3",
      "display_name": "Python 3"
    },
    "language_info": {
      "name": "python"
    }
  },
  "cells": [
    {
      "cell_type": "markdown",
      "metadata": {
        "id": "view-in-github",
        "colab_type": "text"
      },
      "source": [
        "<a href=\"https://colab.research.google.com/github/Haidar440/Data-Structure-using-Python/blob/main/Circular_LinkedList.ipynb\" target=\"_parent\"><img src=\"https://colab.research.google.com/assets/colab-badge.svg\" alt=\"Open In Colab\"/></a>"
      ]
    },
    {
      "cell_type": "code",
      "execution_count": 27,
      "metadata": {
        "id": "Zg4lgKypzax-"
      },
      "outputs": [],
      "source": [
        "class Node:\n",
        "  def __init__(self,data=None,next=None):\n",
        "    self.data = data;\n",
        "    self.next = next;\n"
      ]
    },
    {
      "cell_type": "code",
      "source": [
        "from types import new_class\n",
        "class CLL:\n",
        "  def __init__(self):\n",
        "    self.last = None\n",
        "  def isempty(self):\n",
        "    return self.last == None\n",
        "\n",
        "  def search(self,data):\n",
        "    if not self.isempty():\n",
        "      temp = self.last.next\n",
        "      while temp!=self.last:\n",
        "        if temp.data==data:\n",
        "          return temp\n",
        "        temp = temp.next\n",
        "      if temp.data==data:\n",
        "        return temp\n",
        "      # return print(\"Not found\")\n",
        "\n",
        "\n",
        "  def insert_at_start(self,data):\n",
        "    new_node = Node(data)\n",
        "    if self.isempty():\n",
        "      new_node.next = new_node\n",
        "      self.last = new_node\n",
        "    else:\n",
        "      new_node.next = self.last.next\n",
        "      self.last.next = new_node\n",
        "\n",
        "  def insert_at_last(self,data):\n",
        "    new_node = Node(data)\n",
        "    if self.isempty():\n",
        "      new_node.next = new_node\n",
        "      self.last = new_node\n",
        "    else:\n",
        "      new_node.next = self.last.next\n",
        "      self.last.next = new_node\n",
        "      self.last = new_node\n",
        "\n",
        "  def insert_at_after(self,node,data):\n",
        "     if node is not None:\n",
        "      new_node = Node(data,node.next)\n",
        "      node.next = new_node\n",
        "      if node==self.last:\n",
        "        print(\"last\")\n",
        "        self.last = new_node\n",
        "\n",
        "\n",
        "  def delete_at_first(self):\n",
        "    if not self.isempty():\n",
        "      if self.last.next == self.last:\n",
        "        self.last = None\n",
        "      else:\n",
        "        self.last.next = self.last.next.next\n",
        "    else:\n",
        "      print(\"Null List\")\n",
        "\n",
        "  def delete_at_last(self):\n",
        "    if not self.isempty():\n",
        "      temp = self.last.next\n",
        "      while temp.next!=self.last:\n",
        "        temp = temp.next\n",
        "      if temp.next == self.last.next:\n",
        "        self.last = None\n",
        "      else:\n",
        "          temp.next = self.last.next\n",
        "          self.last  = temp\n",
        "    else:\n",
        "      print(\"Null list\")\n",
        "\n",
        "  def delete_item(self,data):\n",
        "    if not self.isempty():\n",
        "      if self.last.next==self.last and self.last.data == data:\n",
        "        self.last = None\n",
        "      else:\n",
        "        temp = self.last\n",
        "        while True:\n",
        "            if temp.next.data == data:\n",
        "              if temp.next == self.last:\n",
        "                temp.next = self.last.next\n",
        "                self.last = temp\n",
        "              else:\n",
        "                temp.next = temp.next.next\n",
        "              break\n",
        "            temp = temp.next\n",
        "            if temp == self.last:\n",
        "              break\n",
        "\n",
        "  def print_all(self):\n",
        "    if not self.isempty():\n",
        "      temp = self.last.next\n",
        "      while temp!=self.last:\n",
        "        print(temp.data,end=\"->\")\n",
        "        temp = temp.next\n",
        "      else:\n",
        "        print(temp.data,end=\"\")\n",
        "    else:\n",
        "      print(\"Null\")\n",
        "\n",
        "\n",
        "\n",
        "\n",
        "\n",
        "\n",
        "\n",
        "\n",
        "\n",
        "\n"
      ],
      "metadata": {
        "id": "LZds8FNX8gnP"
      },
      "execution_count": 43,
      "outputs": []
    },
    {
      "cell_type": "code",
      "source": [
        "clist = CLL()\n",
        "clist.insert_at_start(45)\n",
        "clist.insert_at_start(435)\n",
        "clist.insert_at_last(567)\n",
        "clist.insert_at_last(800)\n",
        "clist.insert_at_start(90)\n",
        "clist.delete_at_first()\n",
        "clist.insert_at_after(clist.search(567),5000)\n",
        "clist.insert_at_after(clist.search(800),600)\n",
        "print(clist.search(800))\n",
        "clist.delete_item(435)\n",
        "clist.delete_item(600)\n",
        "clist.delete_item(5000)\n",
        "clist.delete_item(567)\n",
        "clist.delete_item(800)\n",
        "clist.delete_item(45)\n",
        "clist.print_all()"
      ],
      "metadata": {
        "colab": {
          "base_uri": "https://localhost:8080/"
        },
        "id": "WX_UhIIILQn4",
        "outputId": "8bb9ff22-a578-4b30-c12c-85874bc9f9d8"
      },
      "execution_count": 49,
      "outputs": [
        {
          "output_type": "stream",
          "name": "stdout",
          "text": [
            "last\n",
            "<__main__.Node object at 0x7955b3addc90>\n",
            "Null\n"
          ]
        }
      ]
    }
  ]
}