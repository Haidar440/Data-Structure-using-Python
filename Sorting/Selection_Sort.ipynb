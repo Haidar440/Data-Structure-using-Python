{
 "cells": [
  {
   "cell_type": "code",
   "execution_count": 5,
   "id": "61c0801c-136b-4e81-8cd7-d9fc0550e59b",
   "metadata": {},
   "outputs": [
    {
     "data": {
      "text/plain": [
       "[2, 2, 3, 5, 10, 12, 21, 33, 33, 54, 56, 222]"
      ]
     },
     "execution_count": 5,
     "metadata": {},
     "output_type": "execute_result"
    }
   ],
   "source": [
    "l1 = [10,56,5,54,3,33,222,21,12,2,2,33]\n",
    "size = len(l1)\n",
    "for i in range(size-1):\n",
    "    min = l1[i]\n",
    "    pos = i\n",
    "    for j in range(i+1,size):\n",
    "        if l1[j]<min:\n",
    "            min = l1[j]\n",
    "            pos = j\n",
    "    if i!=pos:\n",
    "        l1[i],l1[pos]=l1[pos],l1[i]\n",
    "l1"
   ]
  }
 ],
 "metadata": {
  "kernelspec": {
   "display_name": "Python 3 (ipykernel)",
   "language": "python",
   "name": "python3"
  },
  "language_info": {
   "codemirror_mode": {
    "name": "ipython",
    "version": 3
   },
   "file_extension": ".py",
   "mimetype": "text/x-python",
   "name": "python",
   "nbconvert_exporter": "python",
   "pygments_lexer": "ipython3",
   "version": "3.11.0"
  }
 },
 "nbformat": 4,
 "nbformat_minor": 5
}
