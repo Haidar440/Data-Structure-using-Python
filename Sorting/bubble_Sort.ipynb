{
 "cells": [
  {
   "cell_type": "code",
   "execution_count": null,
   "id": "a73acf62-6e69-4524-808a-00b4bef2c1d3",
   "metadata": {},
   "outputs": [],
   "source": [
    "l1 = [10,10,20,20,30,30,40,50,50,60,60,10,90]\n",
    "for i in range(size-1):\n",
    "    for j in range(size-1):\n",
    "        if l1[j]>l1[j+1]:\n",
    "            "
   ]
  }
 ],
 "metadata": {
  "kernelspec": {
   "display_name": "Python 3 (ipykernel)",
   "language": "python",
   "name": "python3"
  },
  "language_info": {
   "codemirror_mode": {
    "name": "ipython",
    "version": 3
   },
   "file_extension": ".py",
   "mimetype": "text/x-python",
   "name": "python",
   "nbconvert_exporter": "python",
   "pygments_lexer": "ipython3",
   "version": "3.11.0"
  }
 },
 "nbformat": 4,
 "nbformat_minor": 5
}
