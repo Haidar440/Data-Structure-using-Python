{
 "cells": [
  {
   "cell_type": "code",
   "execution_count": 8,
   "id": "8233f92c-13c1-4ca8-9b14-468d6a31501c",
   "metadata": {},
   "outputs": [
    {
     "name": "stdin",
     "output_type": "stream",
     "text": [
      "Enter a Element u want to search 55\n"
     ]
    },
    {
     "name": "stdout",
     "output_type": "stream",
     "text": [
      "-1\n"
     ]
    }
   ],
   "source": [
    "l1 = [4,6,7,7,7,88,7,7,33,3]\n",
    "element = int(input(\"Enter a Element u want to search\"))\n",
    "def linear_Search(l1,element):\n",
    "    index = 0\n",
    "    while(index<len(l1)):\n",
    "        if l1[index] == element:\n",
    "            return index\n",
    "        index+=1\n",
    "    else:\n",
    "        return -1\n",
    "position=linear_Search(l1,element)\n",
    "print(position)"
   ]
  },
  {
   "cell_type": "code",
   "execution_count": 22,
   "id": "436d0f57-3b8f-42a7-9ced-aca1146e6d2c",
   "metadata": {},
   "outputs": [
    {
     "data": {
      "text/plain": [
       "[40, 90]"
      ]
     },
     "execution_count": 22,
     "metadata": {},
     "output_type": "execute_result"
    }
   ],
   "source": [
    "l1 = [10,10,20,20,30,30,40,50,50,60,60,10,90]\n",
    "\n",
    "def linear_search(l1):\n",
    "    unique_elements = []\n",
    "    index = 0 \n",
    "    index1 = 0\n",
    "    while(index<len(l1)):\n",
    "        element = l1[index]\n",
    "        index1 = 0\n",
    "        while(index1<len(l1)):\n",
    "            if l1[index1]==element and index!=index1:\n",
    "                break\n",
    "            index1+=1\n",
    "        else:\n",
    "            unique_elements.append(element)\n",
    "        index +=1\n",
    "        \n",
    "    return unique_elements\n",
    "\n",
    "linear_search(l1)\n",
    "                \n",
    "                "
   ]
  },
  {
   "cell_type": "code",
   "execution_count": 8,
   "id": "02208a5c-2df1-4fb8-8e1f-5879eb923614",
   "metadata": {},
   "outputs": [
    {
     "data": {
      "text/plain": [
       "2"
      ]
     },
     "execution_count": 8,
     "metadata": {},
     "output_type": "execute_result"
    }
   ],
   "source": []
  }
 ],
 "metadata": {
  "kernelspec": {
   "display_name": "Python 3 (ipykernel)",
   "language": "python",
   "name": "python3"
  },
  "language_info": {
   "codemirror_mode": {
    "name": "ipython",
    "version": 3
   },
   "file_extension": ".py",
   "mimetype": "text/x-python",
   "name": "python",
   "nbconvert_exporter": "python",
   "pygments_lexer": "ipython3",
   "version": "3.11.0"
  }
 },
 "nbformat": 4,
 "nbformat_minor": 5
}
