{
 "cells": [
  {
   "cell_type": "code",
   "execution_count": 4,
   "id": "34f8cfed-1a1b-46eb-b9ec-b336e68d8e1f",
   "metadata": {},
   "outputs": [
    {
     "name": "stdin",
     "output_type": "stream",
     "text": [
      "Enter a Element to Search 60\n"
     ]
    },
    {
     "name": "stdout",
     "output_type": "stream",
     "text": [
      "None\n"
     ]
    }
   ],
   "source": [
    "def binary_search(arr,element):\n",
    "    low = 0\n",
    "    high = len(arr)-1\n",
    "    count = 0\n",
    "    while low<=high:\n",
    "        mid = (low+high)//2\n",
    "        count+=1\n",
    "        if arr[mid]==element:\n",
    "            return mid\n",
    "        elif arr[mid]<element:\n",
    "            low = mid + 1\n",
    "        else:\n",
    "            high =  mid - 1\n",
    "l1 = [10, 20, 30, 40, 50]\n",
    "element = int(input(\"Enter a Element to Search\"))\n",
    "pos = binary_search(l1,element)\n",
    "print(pos)"
   ]
  },
  {
   "cell_type": "code",
   "execution_count": null,
   "id": "4ec782ba-5e8f-4465-96c8-581b4e421bf9",
   "metadata": {},
   "outputs": [],
   "source": []
  }
 ],
 "metadata": {
  "kernelspec": {
   "display_name": "Python 3 (ipykernel)",
   "language": "python",
   "name": "python3"
  },
  "language_info": {
   "codemirror_mode": {
    "name": "ipython",
    "version": 3
   },
   "file_extension": ".py",
   "mimetype": "text/x-python",
   "name": "python",
   "nbconvert_exporter": "python",
   "pygments_lexer": "ipython3",
   "version": "3.11.0"
  }
 },
 "nbformat": 4,
 "nbformat_minor": 5
}
