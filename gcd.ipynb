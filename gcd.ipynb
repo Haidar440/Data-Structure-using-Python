{
 "cells": [
  {
   "cell_type": "code",
   "execution_count": 1,
   "id": "bbbf6178-bba3-4d41-8df5-c104ca55a196",
   "metadata": {},
   "outputs": [
    {
     "name": "stdout",
     "output_type": "stream",
     "text": [
      "14 and 63 gcd is::7\n"
     ]
    }
   ],
   "source": [
    "def gcd(m,n):\n",
    "    min1 = min(m,n)\n",
    "    for i in range(min1,1,-1):\n",
    "        if m%i==0 and n%i==0:\n",
    "            print(f\"{m} and {n} gcd is::{i}\")\n",
    "            break\n",
    "    \n",
    "gcd(14,63)"
   ]
  },
  {
   "cell_type": "code",
   "execution_count": 2,
   "id": "061aa2d0-b9e1-4890-bfb4-65dce9a73cc6",
   "metadata": {},
   "outputs": [
    {
     "data": {
      "text/plain": [
       "7"
      ]
     },
     "execution_count": 2,
     "metadata": {},
     "output_type": "execute_result"
    }
   ],
   "source": [
    "def simple_gcd(m,n):\n",
    "    fm=[]\n",
    "    for i in range(1,m):\n",
    "        if m%i==0:\n",
    "            fm.append(i)\n",
    "    fn=[]\n",
    "    for j in range(1,n):\n",
    "        if n%j==0:\n",
    "            fn.append(j)\n",
    "    cf=[]\n",
    "    for k in fm:\n",
    "        if k in fn:\n",
    "            cf.append(k)\n",
    "    return cf[-1]\n",
    "simple_gcd(14,63)"
   ]
  },
  {
   "cell_type": "code",
   "execution_count": 3,
   "id": "0e8f34bf-37c7-4976-913c-9620ffe1b898",
   "metadata": {},
   "outputs": [
    {
     "data": {
      "text/plain": [
       "7"
      ]
     },
     "execution_count": 3,
     "metadata": {},
     "output_type": "execute_result"
    }
   ],
   "source": [
    "def gcd(m,n):\n",
    "    for i in range(1,min(m,n)+1):\n",
    "        if m%i==0 and n%i==0:\n",
    "            mrcf = i\n",
    "    return(mrcf)\n",
    "gcd(14,63)"
   ]
  },
  {
   "cell_type": "code",
   "execution_count": 4,
   "id": "81892a7f-9c1f-47af-bbb9-fd648b4a5d46",
   "metadata": {},
   "outputs": [
    {
     "data": {
      "text/plain": [
       "10"
      ]
     },
     "execution_count": 4,
     "metadata": {},
     "output_type": "execute_result"
    }
   ],
   "source": [
    "def gcd(m,n):\n",
    "    i=min(m,n)\n",
    "    while i>0:\n",
    "        if m%i==0 and n%i==0:\n",
    "            return(i)\n",
    "        i-=1\n",
    "  \n",
    "gcd(10,50)          "
   ]
  },
  {
   "cell_type": "code",
   "execution_count": 5,
   "id": "dd103fb3-9517-402f-b43a-e03eb09d087b",
   "metadata": {},
   "outputs": [
    {
     "data": {
      "text/plain": [
       "21"
      ]
     },
     "execution_count": 5,
     "metadata": {},
     "output_type": "execute_result"
    }
   ],
   "source": [
    "def gcd_euclid(m,n):\n",
    "    if m%n!=m:\n",
    "        m,n = n,m\n",
    "    while n!=0:\n",
    "        m,n=n,m%n\n",
    "    return m\n",
    "\n",
    "gcd_euclid(750,900)\n",
    "gcd_euclid(252,105)\n"
   ]
  },
  {
   "cell_type": "code",
   "execution_count": 6,
   "id": "05ee17ea-dbab-4113-a029-1030fdb6c415",
   "metadata": {},
   "outputs": [
    {
     "data": {
      "text/plain": [
       "3"
      ]
     },
     "execution_count": 6,
     "metadata": {},
     "output_type": "execute_result"
    }
   ],
   "source": [
    "def gcd_euclid1(m,n):\n",
    "    if n==0:\n",
    "        return m\n",
    "    else:\n",
    "        return gcd_euclid1(n,m%n)\n",
    "gcd_euclid1(12,33)"
   ]
  },
  {
   "cell_type": "code",
   "execution_count": 8,
   "id": "b7a21878-6ba8-4e7d-969a-ce818859c077",
   "metadata": {},
   "outputs": [
    {
     "name": "stdin",
     "output_type": "stream",
     "text": [
      " \n"
     ]
    },
    {
     "name": "stdout",
     "output_type": "stream",
     "text": [
      "()\n"
     ]
    }
   ],
   "source": [
    "tuple1 = tuple(map(int,input().split()))\n",
    "tuple2 = tuple()\n",
    "for i in range(len(tuple1)-1):\n",
    "    tuple2=tuple2+(tuple1[i]*tuple1[i+1],)\n",
    "\n",
    "print(tuple2)\n",
    "    "
   ]
  },
  {
   "cell_type": "code",
   "execution_count": 18,
   "id": "4c9a1913-190c-43a9-8a09-0e5c2040cb40",
   "metadata": {},
   "outputs": [
    {
     "name": "stdin",
     "output_type": "stream",
     "text": [
      "enter a number 3\n",
      " 12 6\n",
      " 26 10\n",
      " 7 10\n",
      " 12\n"
     ]
    },
    {
     "name": "stdout",
     "output_type": "stream",
     "text": [
      "Key is present\n"
     ]
    }
   ],
   "source": [
    "n = int(input(\"enter a number\"))\n",
    "dict1 = {}\n",
    "for i in range(n):\n",
    "    tuple1 = tuple(map(int,input().split()))\n",
    "    dict1[tuple1[0]] = tuple1[1]\n",
    "    tuple1 = ()\n",
    "key_find = int(input())\n",
    "print(\"Key is present\") if key_find in dict1.keys() else print(\"Key is not Present\")\n",
    "    "
   ]
  },
  {
   "cell_type": "code",
   "execution_count": 23,
   "id": "60bbd88b-3f4f-4711-9531-41914cf2e02c",
   "metadata": {},
   "outputs": [
    {
     "name": "stdout",
     "output_type": "stream",
     "text": [
      "[(1, 2), (4, 4), (2, 3), (2, 5)]\n"
     ]
    }
   ],
   "source": [
    "list1 = [(2,5),(1,2),(4,4),(2,3)]\n",
    "for i in range(len(list1)-1):\n",
    "        if list1[i][1] > list1[i+1][1]:\n",
    "            list1[i],list1[i+1] = list1[i+1],list1[i]   \n",
    "\n",
    "print(list1)\n",
    "            \n",
    "            \n",
    "            \n",
    "            \n",
    "            \n",
    "            "
   ]
  },
  {
   "cell_type": "code",
   "execution_count": 55,
   "id": "2f9b240c-0f52-4f09-afdc-eab22f04cea6",
   "metadata": {},
   "outputs": [
    {
     "name": "stdin",
     "output_type": "stream",
     "text": [
      " 2\n"
     ]
    },
    {
     "name": "stdout",
     "output_type": "stream",
     "text": [
      "2 ee\n",
      "3 ee\n",
      "2 ee\n",
      "2 ee\n",
      "3 ee\n",
      "{2: 3, 3: 3, 1: 2, 4: 1}\n",
      "[(2, 3), (3, 3), (1, 4), (2, 4), (1, 4), (3, 4), (4, 7)]\n"
     ]
    }
   ],
   "source": [
    "list3 = [(2,3),(3,3),(1,4),(2,4),(2,5),(3,4),(1,4),(3,4),(4,7)]\n",
    "list4 = list3.copy()\n",
    "freq = int(input())\n",
    "dic1 = {}\n",
    "for i in list3:\n",
    "    if i[0] in dic1.keys():\n",
    "        dic1[i[0]]+=1\n",
    "        print(dic1[i[0]],\"ee\")\n",
    "        if dic1[i[0]] > freq:\n",
    "            list4.remove(i)\n",
    "    else:\n",
    "        dic1[i[0]] = 1\n",
    "\n",
    "print(dic1)\n",
    "\n",
    "print(list4)\n",
    "        \n",
    "    \n",
    "    \n",
    "        "
   ]
  }
 ],
 "metadata": {
  "kernelspec": {
   "display_name": "Python 3 (ipykernel)",
   "language": "python",
   "name": "python3"
  },
  "language_info": {
   "codemirror_mode": {
    "name": "ipython",
    "version": 3
   },
   "file_extension": ".py",
   "mimetype": "text/x-python",
   "name": "python",
   "nbconvert_exporter": "python",
   "pygments_lexer": "ipython3",
   "version": "3.11.0"
  }
 },
 "nbformat": 4,
 "nbformat_minor": 5
}
