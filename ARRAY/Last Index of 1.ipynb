{
 "cells": [
  {
   "cell_type": "code",
   "execution_count": null,
   "id": "a9006f5b-963f-4a0a-8afa-68b88358955d",
   "metadata": {},
   "outputs": [],
   "source": []
  }
 ],
 "metadata": {
  "kernelspec": {
   "display_name": "",
   "name": ""
  },
  "language_info": {
   "name": ""
  }
 },
 "nbformat": 4,
 "nbformat_minor": 5
}
