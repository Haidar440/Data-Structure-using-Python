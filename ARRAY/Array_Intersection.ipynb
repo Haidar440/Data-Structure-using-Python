{
 "cells": [
  {
   "cell_type": "code",
   "execution_count": 2,
   "id": "0ace5e61-e3ac-41fe-acb2-8a121e81a99f",
   "metadata": {},
   "outputs": [],
   "source": [
    "import numpy as np"
   ]
  },
  {
   "cell_type": "code",
   "execution_count": 3,
   "id": "122891a8-0771-4f41-8d1a-f998b9cdb3db",
   "metadata": {},
   "outputs": [
    {
     "name": "stdout",
     "output_type": "stream",
     "text": [
      "[2 3 4 5]\n"
     ]
    }
   ],
   "source": [
    "arr1 = np.array([1,2,3,4,5,2,3,5,3])\n",
    "arr2 = np.array([2,3,4,31,3,5,5,3,3])\n",
    "a3 = np.array([])\n",
    "for i in arr1:\n",
    "        if i in arr2 and i not in a3:\n",
    "            a3 = np.append(a3,i)\n",
    "\n",
    "int_arr = a3.astype(int) \n",
    "print(int_arr)"
   ]
  },
  {
   "cell_type": "code",
   "execution_count": 7,
   "id": "4eb263b5-f0cf-4045-8165-8ba93cda92bf",
   "metadata": {},
   "outputs": [
    {
     "name": "stdout",
     "output_type": "stream",
     "text": [
      "[ 3.  5.  6.  2. 88.]\n"
     ]
    }
   ],
   "source": [
    "import numpy as np\n",
    "a1 = np.array([3,5,6,7,2,2,2,88])\n",
    "a2 = np.array([4,5,6,2,2,3,88,34])\n",
    "a3 = np.array([])\n",
    "for i in a1:\n",
    "    if i in a2 and i not in a3:\n",
    "        a3 = np.append(a3,i)\n",
    "\n",
    "print(a3)"
   ]
  },
  {
   "cell_type": "code",
   "execution_count": null,
   "id": "e31e7900-9917-43ac-93ae-5fe7c5ea37d3",
   "metadata": {},
   "outputs": [],
   "source": []
  }
 ],
 "metadata": {
  "kernelspec": {
   "display_name": "Python 3 (ipykernel)",
   "language": "python",
   "name": "python3"
  },
  "language_info": {
   "codemirror_mode": {
    "name": "ipython",
    "version": 3
   },
   "file_extension": ".py",
   "mimetype": "text/x-python",
   "name": "python",
   "nbconvert_exporter": "python",
   "pygments_lexer": "ipython3",
   "version": "3.11.0"
  }
 },
 "nbformat": 4,
 "nbformat_minor": 5
}
