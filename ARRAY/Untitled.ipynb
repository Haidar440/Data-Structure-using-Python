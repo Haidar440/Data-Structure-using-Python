{
 "cells": [
  {
   "cell_type": "code",
   "execution_count": 8,
   "id": "91724665-35b3-45c2-a0d1-4ba215f3945d",
   "metadata": {},
   "outputs": [
    {
     "name": "stdout",
     "output_type": "stream",
     "text": [
      "4\n",
      "[1, 4, 7, 10]\n",
      "[2, 5, 8, 11]\n",
      "[3, 6, 9, 12]\n"
     ]
    }
   ],
   "source": [
    "def transpose(martix):\n",
    "    return [[martix[j][i] for j in range(len(martix))] for i in range(len(martix[0]))]\n",
    "matrix = [[1, 2, 3],\n",
    "          [4, 5, 6],\n",
    "          [7, 8, 9],\n",
    "          [10,11,12]\n",
    "         ]\n",
    "\n",
    "print(len(matrix))\n",
    "for i in transpose(matrix):\n",
    "    print(i)"
   ]
  },
  {
   "cell_type": "code",
   "execution_count": 5,
   "id": "36b3a0dc-d4ee-41e6-9517-e51a0f244c74",
   "metadata": {},
   "outputs": [
    {
     "name": "stdout",
     "output_type": "stream",
     "text": [
      "[1, 4, 7]\n",
      "[2, 5, 8]\n",
      "[3, 6, 9]\n"
     ]
    }
   ],
   "source": [
    "def transpose(matrix):\n",
    "    return [[matrix[j][i] for j in range(len(matrix))] for i in range(len(matrix[0]))]\n",
    "\n",
    "# Example Matrix\n",
    "matrix = [[1, 2, 3],\n",
    "          [4, 5, 6],\n",
    "          [7, 8, 9]]\n",
    "\n",
    "# Transpose of Matrix\n",
    "result = transpose(matrix)\n",
    "\n",
    "# Print the Result\n",
    "for row in result:\n",
    "    print(row)\n"
   ]
  },
  {
   "cell_type": "code",
   "execution_count": 11,
   "id": "7e14907c-b016-475e-969b-8499df5e41d6",
   "metadata": {},
   "outputs": [
    {
     "name": "stdout",
     "output_type": "stream",
     "text": [
      "3\n"
     ]
    }
   ],
   "source": [
    "def min_move(nums):\n",
    "    min_val = min(nums)\n",
    "    return sum(i-min_val for i in nums)\n",
    "\n",
    "nums=[1,2,3]\n",
    "print(min_move(nums))"
   ]
  },
  {
   "cell_type": "code",
   "execution_count": 14,
   "id": "4affb339-96ec-4a04-bcda-3f1f5ebb9c5b",
   "metadata": {},
   "outputs": [
    {
     "name": "stdout",
     "output_type": "stream",
     "text": [
      "[1, 1, 1]\n",
      "[1, 0, 1]\n",
      "[1, 1, 1]\n"
     ]
    }
   ],
   "source": [
    "def transpose_matrix(matrix):\n",
    "    rows, cols = len(matrix), len(matrix[0])\n",
    "    transposed = [[0] * rows for _ in range(cols)]  # Create an empty transposed matrix\n",
    "    \n",
    "    for i in range(rows):\n",
    "        for j in range(cols):\n",
    "            transposed[j][i] = matrix[i][j]  # Swap rows and columns\n",
    "    \n",
    "    return transposed\n",
    "\n",
    "# Input matrix\n",
    "matrix = [[1, 1, 1], \n",
    "          [1, 0, 1], \n",
    "          [1, 1, 1]]\n",
    "\n",
    "# Transpose the matrix\n",
    "transposed_matrix = transpose_matrix(matrix)\n",
    "\n",
    "# Print the result in a 2D format\n",
    "for row in transposed_matrix:\n",
    "    print(row)\n"
   ]
  },
  {
   "cell_type": "code",
   "execution_count": 15,
   "id": "c93c55fa-fb50-4f6a-a6d4-df597bbc75d5",
   "metadata": {},
   "outputs": [
    {
     "name": "stdout",
     "output_type": "stream",
     "text": [
      "[1, 0, 1]\n",
      "[0, 0, 0]\n",
      "[1, 0, 1]\n"
     ]
    }
   ],
   "source": [
    "def set_zeroes(matrix):\n",
    "    rows, cols = len(matrix), len(matrix[0])\n",
    "    zero_rows = set()\n",
    "    zero_cols = set()\n",
    "\n",
    "    # Identify rows and columns that should be zeroed\n",
    "    for i in range(rows):\n",
    "        for j in range(cols):\n",
    "            if matrix[i][j] == 0:\n",
    "                zero_rows.add(i)\n",
    "                zero_cols.add(j)\n",
    "\n",
    "    # Modify the matrix\n",
    "    for i in range(rows):\n",
    "        for j in range(cols):\n",
    "            if i in zero_rows or j in zero_cols:\n",
    "                matrix[i][j] = 0\n",
    "\n",
    "# Example Input\n",
    "matrix = [\n",
    "    [1, 1, 1],\n",
    "    [1, 0, 1],\n",
    "    [1, 1, 1]\n",
    "]\n",
    "\n",
    "# Apply transformation\n",
    "set_zeroes(matrix)\n",
    "\n",
    "# Output\n",
    "for row in matrix:\n",
    "    print(row)\n"
   ]
  }
 ],
 "metadata": {
  "kernelspec": {
   "display_name": "Python 3 (ipykernel)",
   "language": "python",
   "name": "python3"
  },
  "language_info": {
   "codemirror_mode": {
    "name": "ipython",
    "version": 3
   },
   "file_extension": ".py",
   "mimetype": "text/x-python",
   "name": "python",
   "nbconvert_exporter": "python",
   "pygments_lexer": "ipython3",
   "version": "3.11.0"
  }
 },
 "nbformat": 4,
 "nbformat_minor": 5
}
