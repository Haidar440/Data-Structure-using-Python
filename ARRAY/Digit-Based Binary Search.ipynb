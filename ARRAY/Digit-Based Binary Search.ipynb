{
 "cells": [
  {
   "cell_type": "code",
   "execution_count": 2,
   "id": "f9534cd1-8446-413a-9490-ff941c6425df",
   "metadata": {},
   "outputs": [
    {
     "name": "stdout",
     "output_type": "stream",
     "text": [
      "6\n"
     ]
    }
   ],
   "source": [
    "n = 15\n",
    "d = 2\n",
    "l = 1\n",
    "h = 13\n",
    "\n",
    "while l <= h:  \n",
    "    mid = (h + l) // 2\n",
    "    sum_dig = mid // 10 + mid % 10\n",
    "    diff = mid - sum_dig\n",
    "\n",
    "    if diff <= 2:\n",
    "        l = mid + 1\n",
    "    else:\n",
    "        h = mid - 1\n",
    "\n",
    "else:\n",
    "    print(n - h)"
   ]
  },
  {
   "cell_type": "code",
   "execution_count": 5,
   "id": "0552a652-4297-4f0c-baee-a5d1cb1fcfec",
   "metadata": {},
   "outputs": [
    {
     "name": "stdout",
     "output_type": "stream",
     "text": [
      "6\n"
     ]
    }
   ],
   "source": [
    "n,d,l,h=15,2,1,13\n",
    "while l<=h:\n",
    "    mid = (l+h)//2\n",
    "    sum1 = mid//10+mid%10\n",
    "    dif = mid - sum1\n",
    "\n",
    "    if dif<=2:\n",
    "        l = mid+1\n",
    "    else:\n",
    "        h = mid-1\n",
    "else:\n",
    "    print(n-h)\n",
    "        "
   ]
  }
 ],
 "metadata": {
  "kernelspec": {
   "display_name": "Python 3 (ipykernel)",
   "language": "python",
   "name": "python3"
  },
  "language_info": {
   "codemirror_mode": {
    "name": "ipython",
    "version": 3
   },
   "file_extension": ".py",
   "mimetype": "text/x-python",
   "name": "python",
   "nbconvert_exporter": "python",
   "pygments_lexer": "ipython3",
   "version": "3.11.0"
  }
 },
 "nbformat": 4,
 "nbformat_minor": 5
}
