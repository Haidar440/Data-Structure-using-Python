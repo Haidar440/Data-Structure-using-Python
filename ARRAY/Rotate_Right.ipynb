{
 "cells": [
  {
   "cell_type": "code",
   "execution_count": 1,
   "id": "78a6bea9-708b-4c0f-b380-dfd4b6dcba16",
   "metadata": {},
   "outputs": [
    {
     "data": {
      "text/plain": [
       "[4, 5, 1, 2, 3]"
      ]
     },
     "execution_count": 1,
     "metadata": {},
     "output_type": "execute_result"
    }
   ],
   "source": [
    "def rotate_right(d,arr):\n",
    "    n = len(arr)\n",
    "    d = d%n\n",
    "    arr = arr[-d:]+arr[:-d]\n",
    "    return arr\n",
    "rotate_right(2,[1,2,3,4,5])"
   ]
  },
  {
   "cell_type": "code",
   "execution_count": 2,
   "id": "49375118-902e-4acd-8696-dded4b09100d",
   "metadata": {},
   "outputs": [
    {
     "name": "stdout",
     "output_type": "stream",
     "text": [
      "[3, 4, 5, 1, 2]\n"
     ]
    }
   ],
   "source": [
    "def rotate_left(d, arr):\n",
    "    n = len(arr)\n",
    "    d = d % n  # Ensure d is within bounds\n",
    "    arr = arr[d:] + arr[:d]\n",
    "    return arr\n",
    "\n",
    "print(rotate_left(2, [1, 2, 3, 4, 5]))  \n",
    "# Output: [3, 4, 5, 1, 2]\n"
   ]
  },
  {
   "cell_type": "code",
   "execution_count": null,
   "id": "6f24d6ba-e781-43e8-8947-4f9fc235f579",
   "metadata": {},
   "outputs": [],
   "source": [
    "def rotate_left(d,arr):\n",
    "    n = len(arr)\n",
    "    d = d%n\n",
    "    arr = "
   ]
  }
 ],
 "metadata": {
  "kernelspec": {
   "display_name": "Python 3 (ipykernel)",
   "language": "python",
   "name": "python3"
  },
  "language_info": {
   "codemirror_mode": {
    "name": "ipython",
    "version": 3
   },
   "file_extension": ".py",
   "mimetype": "text/x-python",
   "name": "python",
   "nbconvert_exporter": "python",
   "pygments_lexer": "ipython3",
   "version": "3.11.0"
  }
 },
 "nbformat": 4,
 "nbformat_minor": 5
}
