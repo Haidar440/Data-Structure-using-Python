{
 "cells": [
  {
   "cell_type": "code",
   "execution_count": 10,
   "id": "60e36224-76e8-4722-9de6-248ecc0f23a9",
   "metadata": {},
   "outputs": [
    {
     "name": "stdin",
     "output_type": "stream",
     "text": [
      "Enter a Element 30\n"
     ]
    },
    {
     "name": "stdout",
     "output_type": "stream",
     "text": [
      "-1\n"
     ]
    }
   ],
   "source": [
    "def index_find(arr,element):\n",
    "    return np.where(arr == element)[0][0]\n",
    "import numpy as np\n",
    "try:\n",
    "    arr = np.array([3,3,4,5,6,674,22,2,3])\n",
    "    element = int(input(\"Enter a Element\"))\n",
    "    print(index_find(arr,element))\n",
    "except:\n",
    "    print(-1)"
   ]
  }
 ],
 "metadata": {
  "kernelspec": {
   "display_name": "Python 3 (ipykernel)",
   "language": "python",
   "name": "python3"
  },
  "language_info": {
   "codemirror_mode": {
    "name": "ipython",
    "version": 3
   },
   "file_extension": ".py",
   "mimetype": "text/x-python",
   "name": "python",
   "nbconvert_exporter": "python",
   "pygments_lexer": "ipython3",
   "version": "3.11.0"
  }
 },
 "nbformat": 4,
 "nbformat_minor": 5
}
