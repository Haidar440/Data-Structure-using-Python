{
 "cells": [
  {
   "cell_type": "code",
   "execution_count": 1,
   "id": "60e36224-76e8-4722-9de6-248ecc0f23a9",
   "metadata": {},
   "outputs": [
    {
     "name": "stdin",
     "output_type": "stream",
     "text": [
      "Enter a Element 4\n"
     ]
    },
    {
     "name": "stdout",
     "output_type": "stream",
     "text": [
      "2\n"
     ]
    }
   ],
   "source": [
    "def index_find(arr,element):\n",
    "    return np.where(arr == element)[0][0]\n",
    "import numpy as np\n",
    "try:\n",
    "    arr = np.array([3,3,4,5,6,674,22,2,3])\n",
    "    element = int(input(\"Enter a Element\"))\n",
    "    print(index_find(arr,element))\n",
    "except:\n",
    "    print(-1)"
   ]
  },
  {
   "cell_type": "code",
   "execution_count": 4,
   "id": "ba62ffec-eb57-4505-9d7c-b81bd7f7d3d4",
   "metadata": {},
   "outputs": [
    {
     "name": "stdin",
     "output_type": "stream",
     "text": [
      " 4\n"
     ]
    },
    {
     "name": "stdout",
     "output_type": "stream",
     "text": [
      "2\n"
     ]
    }
   ],
   "source": [
    "import numpy as np\n",
    "def index_find(arr,element):\n",
    "    return np.where(arr==element)[0][0]\n",
    "try:\n",
    "    arr=np.array([3,3,4,5,6,674,22,2,3])\n",
    "    element = int(input())\n",
    "    print(index_find(arr,element))\n",
    "except:\n",
    "    print(-1)\n"
   ]
  }
 ],
 "metadata": {
  "kernelspec": {
   "display_name": "Python 3 (ipykernel)",
   "language": "python",
   "name": "python3"
  },
  "language_info": {
   "codemirror_mode": {
    "name": "ipython",
    "version": 3
   },
   "file_extension": ".py",
   "mimetype": "text/x-python",
   "name": "python",
   "nbconvert_exporter": "python",
   "pygments_lexer": "ipython3",
   "version": "3.11.0"
  }
 },
 "nbformat": 4,
 "nbformat_minor": 5
}
