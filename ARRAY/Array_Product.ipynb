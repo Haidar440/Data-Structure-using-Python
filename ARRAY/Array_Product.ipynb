{
 "cells": [
  {
   "cell_type": "code",
   "execution_count": 1,
   "id": "64d865fd-f885-44a8-9dbe-b7296154642a",
   "metadata": {},
   "outputs": [
    {
     "data": {
      "text/plain": [
       "[120, 60, 40, 30, 24]"
      ]
     },
     "execution_count": 1,
     "metadata": {},
     "output_type": "execute_result"
    }
   ],
   "source": [
    "arr = [1,2,3,4,5]\n",
    "total_product=1\n",
    "for i in arr:\n",
    "    total_product*=i\n",
    "\n",
    "pro_list=[total_product//i for i in arr]\n",
    "pro_list\n",
    "    "
   ]
  },
  {
   "cell_type": "code",
   "execution_count": 2,
   "id": "d30e5443-0943-47d6-a8db-964472e743ae",
   "metadata": {},
   "outputs": [
    {
     "data": {
      "text/plain": [
       "[612, 306, 204, 18, 204]"
      ]
     },
     "execution_count": 2,
     "metadata": {},
     "output_type": "execute_result"
    }
   ],
   "source": [
    "arr = [1,2,3,34,3]\n",
    "total_product = 1;\n",
    "for i in arr:\n",
    "    total_product*=i\n",
    "pro_list = [total_product//i for i in arr]\n",
    "pro_list"
   ]
  },
  {
   "cell_type": "code",
   "execution_count": 4,
   "id": "ec4a93b3-0574-4190-8bb5-64c4d230c8bf",
   "metadata": {},
   "outputs": [
    {
     "name": "stdout",
     "output_type": "stream",
     "text": [
      "Original Array: [1, 2, 3, 4, 5]\n",
      "[1, 1, 1, 1, 1]\n",
      "Product Array: [120, 60, 40, 30, 24]\n"
     ]
    }
   ],
   "source": [
    "def productExceptSelf(arr):\n",
    "    n = len(arr)\n",
    "    res = [1] * n  # Initialize result array with 1\n",
    "    for i in range(n):\n",
    "        for j in range(n):\n",
    "            if i != j:\n",
    "                res[i] *= arr[j]\n",
    "    \n",
    "    return res\n",
    "\n",
    "# Input array\n",
    "arr = [1, 2, 3, 4, 5]\n",
    "print(\"Original Array:\", arr)\n",
    "\n",
    "# Calculate the special product array\n",
    "result = productExceptSelf(arr)\n",
    "print(\"Product Array:\", result)\n"
   ]
  },
  {
   "cell_type": "code",
   "execution_count": 5,
   "id": "36b3aab5-607e-4fc8-bec0-82d4e815ee7b",
   "metadata": {},
   "outputs": [
    {
     "data": {
      "text/plain": [
       "[120, 60, 40, 30, 24]"
      ]
     },
     "execution_count": 5,
     "metadata": {},
     "output_type": "execute_result"
    }
   ],
   "source": [
    "def product(arr):\n",
    "    n = len(arr)\n",
    "    res = [1]*n\n",
    "    for i in range(n):\n",
    "        for j in range(n):\n",
    "            if i!=j:\n",
    "                res[i]=res[i]*arr[j]\n",
    "    return res\n",
    "arr = [1, 2, 3, 4, 5]\n",
    "product(arr)"
   ]
  }
 ],
 "metadata": {
  "kernelspec": {
   "display_name": "Python 3 (ipykernel)",
   "language": "python",
   "name": "python3"
  },
  "language_info": {
   "codemirror_mode": {
    "name": "ipython",
    "version": 3
   },
   "file_extension": ".py",
   "mimetype": "text/x-python",
   "name": "python",
   "nbconvert_exporter": "python",
   "pygments_lexer": "ipython3",
   "version": "3.11.0"
  }
 },
 "nbformat": 4,
 "nbformat_minor": 5
}
