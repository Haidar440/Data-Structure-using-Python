{
 "cells": [
  {
   "cell_type": "code",
   "execution_count": 2,
   "id": "e850aade-8b14-4103-b65e-5dd54ce13e1d",
   "metadata": {},
   "outputs": [],
   "source": [
    "import numpy as np"
   ]
  },
  {
   "cell_type": "code",
   "execution_count": 2,
   "id": "b74c19cc-d325-41e7-8932-9d53529913fc",
   "metadata": {},
   "outputs": [
    {
     "name": "stdout",
     "output_type": "stream",
     "text": [
      "[3, 4, 5, 56, 6, 77, 78, 2]\n"
     ]
    }
   ],
   "source": [
    "x = np.array([3,4,5,56,6,77,78,4,3,2,2,2])\n",
    "def remove_duplicates(array):\n",
    "    new_arr = []\n",
    "    for i in array:\n",
    "        if i not in new_arr:\n",
    "            new_arr.append(i)\n",
    "    return new_arr\n",
    "result = remove_duplicates(x)\n",
    "print(result)"
   ]
  },
  {
   "cell_type": "code",
   "execution_count": 3,
   "id": "24f917cf-0dae-4040-9e75-1fefb5e0112b",
   "metadata": {},
   "outputs": [
    {
     "name": "stdout",
     "output_type": "stream",
     "text": [
      "[ 2  3  4  5  6 77 78 56]\n"
     ]
    }
   ],
   "source": [
    "x = np.array([3,4,5,56,6,77,78,4,3,2,2,2])\n",
    "def remove_duplicates_1(array):\n",
    "       return np.array(list(set(x)))\n",
    "result = remove_duplicates_1(x)\n",
    "print(result)"
   ]
  }
 ],
 "metadata": {
  "kernelspec": {
   "display_name": "Python 3 (ipykernel)",
   "language": "python",
   "name": "python3"
  },
  "language_info": {
   "codemirror_mode": {
    "name": "ipython",
    "version": 3
   },
   "file_extension": ".py",
   "mimetype": "text/x-python",
   "name": "python",
   "nbconvert_exporter": "python",
   "pygments_lexer": "ipython3",
   "version": "3.11.0"
  }
 },
 "nbformat": 4,
 "nbformat_minor": 5
}
