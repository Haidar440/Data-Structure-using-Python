{
 "cells": [
  {
   "cell_type": "code",
   "execution_count": 1,
   "id": "2c57aaed-128c-47b1-bada-b45f44534059",
   "metadata": {},
   "outputs": [
    {
     "name": "stdout",
     "output_type": "stream",
     "text": [
      "[1, 1, 1, 1, 1, 1, 1, 0, 0, 0, 0]\n"
     ]
    }
   ],
   "source": [
    "num = 1010105610111\n",
    "store = []\n",
    "count = 0\n",
    "while num!=0:\n",
    "    last_digit = num%10\n",
    "    if last_digit==1:\n",
    "        store.append(1)\n",
    "    elif last_digit == 0:\n",
    "        count+=1\n",
    "    num = num//10\n",
    "\n",
    "print(store + [0]*count)"
   ]
  },
  {
   "cell_type": "code",
   "execution_count": 9,
   "id": "ddee3448-a636-4dc6-81c7-45c213a788c9",
   "metadata": {},
   "outputs": [
    {
     "name": "stdout",
     "output_type": "stream",
     "text": [
      "[1, 1, 1, 1, 1, 1, 1, 1, 0, 0, 0, 0]\n"
     ]
    }
   ],
   "source": [
    "num = [1,1,1,1,1,1,0,0,0,0,1,1]\n",
    "store = []\n",
    "count = 0\n",
    "i = 0\n",
    "while i<len(num):\n",
    "    if num[i]==1:\n",
    "        store.append(num[i])\n",
    "    elif num[i]==0:\n",
    "        count+=1\n",
    "    i+=1\n",
    "\n",
    "print(store + [0]*count)\n",
    "        "
   ]
  },
  {
   "cell_type": "code",
   "execution_count": 14,
   "id": "69cd2d4e-bdc7-4758-a980-e03822d037ea",
   "metadata": {},
   "outputs": [
    {
     "name": "stdout",
     "output_type": "stream",
     "text": [
      "[1, 1, 1, 1, 1, 1, 1, 1, 0, 0, 0, 0]\n"
     ]
    }
   ],
   "source": [
    "num = [1,1,1,1,1,1,0,0,0,0,1,1]\n",
    "store = []\n",
    "count = 0\n",
    "i = len(num)-1\n",
    "while i>=0:\n",
    "    if num[i]==1:\n",
    "        store.append(num[i])\n",
    "    elif num[i]==0:\n",
    "        count+=1\n",
    "    i-=1\n",
    "\n",
    "print(store + [0]*count)"
   ]
  },
  {
   "cell_type": "code",
   "execution_count": null,
   "id": "11d0be20-1b8d-4492-a36f-3637b315edcf",
   "metadata": {},
   "outputs": [],
   "source": [
    "num = [1,1,1,1,1,1,0,0,0,0,1,1]\n",
    "store = []\n",
    "count = 0\n",
    "i = len(num)-1\n",
    "while i<="
   ]
  }
 ],
 "metadata": {
  "kernelspec": {
   "display_name": "Python 3 (ipykernel)",
   "language": "python",
   "name": "python3"
  },
  "language_info": {
   "codemirror_mode": {
    "name": "ipython",
    "version": 3
   },
   "file_extension": ".py",
   "mimetype": "text/x-python",
   "name": "python",
   "nbconvert_exporter": "python",
   "pygments_lexer": "ipython3",
   "version": "3.11.0"
  }
 },
 "nbformat": 4,
 "nbformat_minor": 5
}
