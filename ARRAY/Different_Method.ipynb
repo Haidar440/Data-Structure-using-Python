{
 "cells": [
  {
   "cell_type": "code",
   "execution_count": 1,
   "id": "727bcc62-be40-47c0-8f68-0fd476f9902c",
   "metadata": {},
   "outputs": [],
   "source": [
    "import numpy as np"
   ]
  },
  {
   "cell_type": "code",
   "execution_count": 2,
   "id": "c0f5010a-ea5c-46f9-8ae1-c9825edecbc7",
   "metadata": {},
   "outputs": [
    {
     "data": {
      "text/plain": [
       "array([23,  5,  6, 67, 77,  8,  8])"
      ]
     },
     "execution_count": 2,
     "metadata": {},
     "output_type": "execute_result"
    }
   ],
   "source": [
    "arr = np.array([23,5,6,67,77,8,8])\n",
    "arr"
   ]
  },
  {
   "cell_type": "code",
   "execution_count": 3,
   "id": "27ff2ae2-e2de-413a-bbce-2787d1281dbc",
   "metadata": {},
   "outputs": [
    {
     "data": {
      "text/plain": [
       "array.array"
      ]
     },
     "execution_count": 3,
     "metadata": {},
     "output_type": "execute_result"
    }
   ],
   "source": [
    "from array import *\n",
    "array = array('i',[46,67,7,7,87,5])\n",
    "type(array)"
   ]
  },
  {
   "cell_type": "code",
   "execution_count": 4,
   "id": "40c84f5d-a0db-4756-bd1d-c7dde08c9392",
   "metadata": {},
   "outputs": [
    {
     "data": {
      "text/plain": [
       "array('i', [46, 60, 67, 7, 7, 87, 5])"
      ]
     },
     "execution_count": 4,
     "metadata": {},
     "output_type": "execute_result"
    }
   ],
   "source": [
    "array.insert(1,60)\n",
    "array"
   ]
  },
  {
   "cell_type": "code",
   "execution_count": 5,
   "id": "1c0c9f58-01fa-4bf5-8070-23a9891d6ef3",
   "metadata": {},
   "outputs": [
    {
     "data": {
      "text/plain": [
       "array('i', [46, 60, 67, 7, 7, 5])"
      ]
     },
     "execution_count": 5,
     "metadata": {},
     "output_type": "execute_result"
    }
   ],
   "source": [
    "array.remove(87)\n",
    "array"
   ]
  },
  {
   "cell_type": "code",
   "execution_count": 6,
   "id": "d94bd88e-93c8-407e-ae4a-5c6194a5f232",
   "metadata": {},
   "outputs": [
    {
     "data": {
      "text/plain": [
       "2"
      ]
     },
     "execution_count": 6,
     "metadata": {},
     "output_type": "execute_result"
    }
   ],
   "source": [
    "array.index(67)"
   ]
  },
  {
   "cell_type": "code",
   "execution_count": 7,
   "id": "3e71f6c2-03b2-4ed4-9125-895f2ad9752c",
   "metadata": {},
   "outputs": [],
   "source": [
    "array[3]=400"
   ]
  },
  {
   "cell_type": "code",
   "execution_count": 8,
   "id": "291bb66c-36ec-4da4-8621-6dfc90c9ed2e",
   "metadata": {},
   "outputs": [
    {
     "data": {
      "text/plain": [
       "array('i', [46, 60, 67, 400, 7, 5])"
      ]
     },
     "execution_count": 8,
     "metadata": {},
     "output_type": "execute_result"
    }
   ],
   "source": [
    "array"
   ]
  },
  {
   "cell_type": "code",
   "execution_count": 9,
   "id": "9a82db0b-fe05-4481-9f94-689ee8267348",
   "metadata": {},
   "outputs": [
    {
     "name": "stdout",
     "output_type": "stream",
     "text": [
      "400 5\n"
     ]
    }
   ],
   "source": [
    "def largest_smallest(array):\n",
    "    largest=array[0]\n",
    "    smallest=array[0]\n",
    "    for i in array:\n",
    "        if i>largest:\n",
    "            largest=i\n",
    "        elif i<smallest:\n",
    "            smallest=i\n",
    "    print(largest,smallest)\n",
    "largest_smallest(array)"
   ]
  }
 ],
 "metadata": {
  "kernelspec": {
   "display_name": "Python 3 (ipykernel)",
   "language": "python",
   "name": "python3"
  },
  "language_info": {
   "codemirror_mode": {
    "name": "ipython",
    "version": 3
   },
   "file_extension": ".py",
   "mimetype": "text/x-python",
   "name": "python",
   "nbconvert_exporter": "python",
   "pygments_lexer": "ipython3",
   "version": "3.11.0"
  }
 },
 "nbformat": 4,
 "nbformat_minor": 5
}
