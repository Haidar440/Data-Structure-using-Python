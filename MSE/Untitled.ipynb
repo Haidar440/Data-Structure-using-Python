{
 "cells": [
  {
   "cell_type": "code",
   "execution_count": 9,
   "id": "8136269e-4af3-4ee4-bb1a-76455d8cf59c",
   "metadata": {},
   "outputs": [
    {
     "name": "stdout",
     "output_type": "stream",
     "text": [
      "120\n"
     ]
    }
   ],
   "source": [
    "def factorial(n):\n",
    "    if n==1 or n==0:\n",
    "        return 1\n",
    "    return n * factorial(n-1)\n",
    "print(factorial(5))"
   ]
  },
  {
   "cell_type": "code",
   "execution_count": 22,
   "id": "2befb0f2-36f7-4726-9433-2509d2efbbdc",
   "metadata": {},
   "outputs": [
    {
     "data": {
      "text/plain": [
       "55"
      ]
     },
     "execution_count": 22,
     "metadata": {},
     "output_type": "execute_result"
    }
   ],
   "source": [
    "def fibo(n):\n",
    "    if n<=0:\n",
    "        print(\"Invalid input\")\n",
    "    elif n==1:\n",
    "        return 0\n",
    "    elif n==2:\n",
    "        return 1\n",
    "    else:\n",
    "        return fibo(n-1) + fibo(n-2)\n",
    "\n",
    "fibo(11)\n"
   ]
  },
  {
   "cell_type": "code",
   "execution_count": 24,
   "id": "fff0c2cd-135b-4d35-ac80-253d2ab09d0a",
   "metadata": {},
   "outputs": [
    {
     "data": {
      "text/plain": [
       "120"
      ]
     },
     "execution_count": 24,
     "metadata": {},
     "output_type": "execute_result"
    }
   ],
   "source": [
    "def tail_fact(n,result=1):\n",
    "    if n==0:\n",
    "        return result\n",
    "    else:\n",
    "        return tail_fibo(n-1,n*result)\n",
    "tail_fact(5)"
   ]
  },
  {
   "cell_type": "code",
   "execution_count": 27,
   "id": "2aea7bc4-d716-4e1e-8424-a49e5ce1444c",
   "metadata": {},
   "outputs": [
    {
     "name": "stdout",
     "output_type": "stream",
     "text": [
      "True\n",
      "False\n"
     ]
    }
   ],
   "source": [
    "def is_even(n):\n",
    "    if n==0:\n",
    "        return True\n",
    "    else:\n",
    "        return is_odd(n-1)\n",
    "def is_odd(n):\n",
    "    if n==0:\n",
    "        return False\n",
    "    else:\n",
    "        return is_even(n-1)\n",
    "print(is_even(4))\n",
    "print(is_odd(2))"
   ]
  },
  {
   "cell_type": "code",
   "execution_count": 28,
   "id": "491e47f2-6222-4089-8b8a-691410bf8901",
   "metadata": {},
   "outputs": [
    {
     "name": "stdout",
     "output_type": "stream",
     "text": [
      "Move disk 1 from A to C\n",
      "Move Disk 2 from A to B\n",
      "Move disk 1 from C to B\n",
      "Move Disk 3 from A to C\n",
      "Move disk 1 from B to A\n",
      "Move Disk 2 from B to C\n",
      "Move disk 1 from A to C\n"
     ]
    }
   ],
   "source": [
    "def tower_of_hanoi(n,source,auxiliary,desti):\n",
    "    if n==1:\n",
    "        print(f\"Move disk 1 from {source} to {desti}\")\n",
    "        return\n",
    "    tower_of_hanoi(n-1,source,desti,auxiliary)\n",
    "    print(f\"Move Disk {n} from {source} to {desti}\")\n",
    "    tower_of_hanoi(n-1,auxiliary,source,desti)\n",
    "\n",
    "n = 3\n",
    "tower_of_hanoi(n,\"A\",\"B\",\"C\")\n",
    "\n",
    "    "
   ]
  },
  {
   "cell_type": "code",
   "execution_count": 32,
   "id": "597b853d-ed56-495f-86b3-32c25ab6d96b",
   "metadata": {},
   "outputs": [
    {
     "name": "stdout",
     "output_type": "stream",
     "text": [
      "The sum  digit :: 15\n"
     ]
    }
   ],
   "source": [
    "def sum_of_digits(n):\n",
    "    if n==0:\n",
    "        return 0\n",
    "    else:\n",
    "        return (n%10) + sum_of_digits(n//10)\n",
    "n=12345\n",
    "print(\"The sum  digit ::\",(sum_of_digits(n)))"
   ]
  },
  {
   "cell_type": "code",
   "execution_count": 38,
   "id": "d988354b-86f3-4cdd-a16f-90b7d64336e8",
   "metadata": {},
   "outputs": [
    {
     "data": {
      "text/plain": [
       "16"
      ]
     },
     "execution_count": 38,
     "metadata": {},
     "output_type": "execute_result"
    }
   ],
   "source": [
    "def gcd(a,b):\n",
    "    if b==0:\n",
    "        return a\n",
    "    else:\n",
    "        return gcd(b,a%b)\n",
    "gcd(48,64)"
   ]
  },
  {
   "cell_type": "code",
   "execution_count": 40,
   "id": "0eafe787-220e-4b91-a166-c1a91ba053e8",
   "metadata": {},
   "outputs": [
    {
     "data": {
      "text/plain": [
       "55"
      ]
     },
     "execution_count": 40,
     "metadata": {},
     "output_type": "execute_result"
    }
   ],
   "source": [
    "def fib(n):\n",
    "    if n<=0:\n",
    "        print(\"Invalid input\")\n",
    "    elif n==1:\n",
    "        return 0\n",
    "    elif n==2:\n",
    "        return 1\n",
    "    else:\n",
    "        return fib(n-1)+fib(n-2)\n",
    "fib(11)"
   ]
  },
  {
   "cell_type": "code",
   "execution_count": 1,
   "id": "a757239b-51db-4a1e-8b81-86819cd3f9c6",
   "metadata": {},
   "outputs": [
    {
     "name": "stdout",
     "output_type": "stream",
     "text": [
      "3\n",
      "0\n"
     ]
    }
   ],
   "source": [
    "def count_odd_digits(n):\n",
    "    if n == 0:\n",
    "        return 0\n",
    "    return (1 if (n % 10) % 2 != 0 else 0) + count_odd_digits(n // 10)\n",
    "\n",
    "# Example Usage\n",
    "print(count_odd_digits(123456))  # Output: 3 (1,3,5)\n",
    "print(count_odd_digits(24680))   # Output: 0 (No odd digits)\n"
   ]
  },
  {
   "cell_type": "code",
   "execution_count": 3,
   "id": "ea4c273b-1de6-4f22-8d71-fe17405d702f",
   "metadata": {},
   "outputs": [
    {
     "name": "stdout",
     "output_type": "stream",
     "text": [
      "5\n"
     ]
    }
   ],
   "source": [
    "def count_odd_digit(n):\n",
    "    if n==0:\n",
    "        return 0\n",
    "    else:\n",
    "        return(1 if (n%10) % 2!=0 else 0) + count_odd_digit(n//10)\n",
    "print(count_odd_digits(12345611))"
   ]
  }
 ],
 "metadata": {
  "kernelspec": {
   "display_name": "Python 3 (ipykernel)",
   "language": "python",
   "name": "python3"
  },
  "language_info": {
   "codemirror_mode": {
    "name": "ipython",
    "version": 3
   },
   "file_extension": ".py",
   "mimetype": "text/x-python",
   "name": "python",
   "nbconvert_exporter": "python",
   "pygments_lexer": "ipython3",
   "version": "3.11.0"
  }
 },
 "nbformat": 4,
 "nbformat_minor": 5
}
