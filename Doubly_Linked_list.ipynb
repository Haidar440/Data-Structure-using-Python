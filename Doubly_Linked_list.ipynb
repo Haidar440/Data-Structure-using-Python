{
  "nbformat": 4,
  "nbformat_minor": 0,
  "metadata": {
    "colab": {
      "provenance": [],
      "toc_visible": true,
      "authorship_tag": "ABX9TyM9+y1Cda5gp1QhSl2n6pUU",
      "include_colab_link": true
    },
    "kernelspec": {
      "name": "python3",
      "display_name": "Python 3"
    },
    "language_info": {
      "name": "python"
    }
  },
  "cells": [
    {
      "cell_type": "markdown",
      "metadata": {
        "id": "view-in-github",
        "colab_type": "text"
      },
      "source": [
        "<a href=\"https://colab.research.google.com/github/Haidar440/Data-Structure-using-Python/blob/main/Doubly_Linked_list.ipynb\" target=\"_parent\"><img src=\"https://colab.research.google.com/assets/colab-badge.svg\" alt=\"Open In Colab\"/></a>"
      ]
    },
    {
      "cell_type": "code",
      "execution_count": null,
      "metadata": {
        "id": "abIXhWJDDkh8"
      },
      "outputs": [],
      "source": [
        "class Node:\n",
        "  def __init__(self,prev=None,item=None,next=None):\n",
        "    self.prev = prev\n",
        "    self.item = item\n",
        "    self.next = next"
      ]
    },
    {
      "cell_type": "code",
      "source": [
        "class DLL:\n",
        "  def __init__(self):\n",
        "    self.start = None\n",
        "\n",
        "  def isempty(self):\n",
        "    return self.start==None\n",
        "\n",
        "  def insert_at_begin(self,data):\n",
        "     new_node = Node(None,data,self.start)\n",
        "     if not self.isempty():\n",
        "        self.start.prev = new_node\n",
        "     self.start = new_node\n",
        "\n",
        "  def insert_at_last(self,data):\n",
        "     temp = self.start\n",
        "\n",
        "    if self.start!=None:\n",
        "      while temp.next!=None:\n",
        "        temp = temp.next\n",
        "    new_node = Node(temp,data,None)\n",
        "    if temp==None:\n",
        "      self.start = new_node\n",
        "    else:\n",
        "      temp.next = new_node\n",
        "\n",
        "\n",
        "  def search(self,data):\n",
        "    temp = self.start\n",
        "    while temp!=None:\n",
        "      if temp.item == data:\n",
        "        return temp\n",
        "      temp = temp.next\n",
        "    return temp\n",
        "\n",
        "  def insert_at_after(self,data,node):\n",
        "    #  new_node = Node(node,data)\n",
        "    #  if self.start.next == None:\n",
        "    #   self.start.next = new_node\n",
        "    #  else:\n",
        "    #    new_node.next = node.next\n",
        "    #    node.next.prev = new_node\n",
        "    #    node.next = new_node\n",
        "    if node is not None:\n",
        "      new_node = Node(node,data,node.next)\n",
        "      if node.next is not None:\n",
        "        node.next.prev = new_node\n",
        "      node.next = new_node\n",
        "\n",
        "  def print_all(self):\n",
        "    temp=self.start\n",
        "    while temp!=None:\n",
        "      print(temp.item,end=\" \")\n",
        "      temp = temp.next\n",
        "\n",
        "  def delete_first(self):\n",
        "    if not self.isempty():\n",
        "        self.start = self.start.next\n",
        "        if self.start is not None:\n",
        "          self.start.prev = None\n",
        "\n",
        "  def delete_last(self):\n",
        "    temp = self.start\n",
        "    if not self.isempty():\n",
        "      if temp.next is None:\n",
        "        self.start = None\n",
        "      else:\n",
        "        while temp.next!=None:\n",
        "          temp = temp.next\n",
        "        temp.prev.next = None\n",
        "        temp.prev =None\n",
        "\n",
        "  def delete_item(self,data):\n",
        "    if not self.isempty():\n",
        "      temp = self.start\n",
        "      while temp is not None:\n",
        "        if temp.item ==data:\n",
        "          if temp.next is not None:\n",
        "             temp.next.prev = temp.prev\n",
        "          if temp.prev is not None:\n",
        "            temp.prev.next = temp.next\n",
        "          else:\n",
        "            self.start = temp.next\n",
        "            print(\"\")\n",
        "          break\n",
        "        temp = temp.next\n",
        "\n",
        "  def __iter__(self):\n",
        "    return DLLIterator(self.start)\n",
        "\n",
        "class DLLIterator:\n",
        "  def __init__(self,start):\n",
        "    self.current = start\n",
        "  def __iter__(self):\n",
        "    return self\n",
        "  def __next__(self):\n",
        "    if not self.current:\n",
        "      raise StopIteration\n",
        "    data=self.current.item\n",
        "    self.current = self.current.next\n",
        "    return data\n",
        "\n",
        "\n",
        "\n",
        "mylist = DLL()\n",
        "mylist.insert_at_begin(45)\n",
        "mylist.insert_at_begin(67)\n",
        "mylist.insert_at_begin(200)\n",
        "mylist.insert_at_last(100)\n",
        "mylist.insert_at_last(400)\n",
        "mylist.insert_at_begin(500)\n",
        "print(mylist.search(1200))\n",
        "mylist.insert_at_after(900,mylist.search(400))\n",
        "mylist.insert_at_after(700,mylist.search(1000))\n",
        "# mylist.delete_item(400)\n",
        "# mylist.delete_item(900)\n",
        "# mylist.delete_item(700)\n",
        "# mylist.print_all()\n",
        "for i in mylist:\n",
        "  print(i,end=\" \")\n",
        "\n",
        "\n",
        "\n",
        "\n",
        "\n",
        "\n",
        "\n",
        "\n",
        "\n",
        "\n"
      ],
      "metadata": {
        "colab": {
          "base_uri": "https://localhost:8080/"
        },
        "id": "q-OHCRqcEDpj",
        "outputId": "2919eda5-6fce-4581-845e-4f3cbb57d3ec"
      },
      "execution_count": null,
      "outputs": [
        {
          "output_type": "stream",
          "name": "stdout",
          "text": [
            "None\n",
            "500 200 67 45 100 400 900 "
          ]
        }
      ]
    },
    {
      "cell_type": "code",
      "source": [],
      "metadata": {
        "id": "f1yAKwblEFV9"
      },
      "execution_count": null,
      "outputs": []
    }
  ]
}